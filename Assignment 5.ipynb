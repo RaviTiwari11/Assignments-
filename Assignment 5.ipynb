{
 "cells": [
  {
   "cell_type": "markdown",
   "id": "4d1afa1f",
   "metadata": {},
   "source": [
    "### 1. What does an empty dictionary's code look like?\n",
    "ans = \n",
    "      \n",
    "      only {}\n",
    "      a={}\n",
    "      a is dictionary which is empty. there is no any value defined. "
   ]
  },
  {
   "cell_type": "markdown",
   "id": "e618cbdf",
   "metadata": {},
   "source": [
    "### 2. What is the value of a dictionary value with the key 'foo' and the value 42?\n",
    "ans = \n",
    "    \n",
    "      for ex a={'foo':42}\n",
    "      key = foo\n",
    "      and value = 42"
   ]
  },
  {
   "cell_type": "markdown",
   "id": "e30b2dd6",
   "metadata": {},
   "source": [
    "### 3. What is the most significant distinction between a dictionary and a list?\n",
    "ans = \n",
    "       in list , objects are in a sequence order.\n",
    "       while dictionary are unordered sets.\n",
    "       items in dictionary can be access via keys only not by the position."
   ]
  },
  {
   "cell_type": "markdown",
   "id": "b68b4555",
   "metadata": {},
   "source": [
    "### 4. What happens if you try to access spam['foo'] if spam is {'bar': 100}?\n",
    "ans = \n",
    "\n",
    "    it will give error becuasue foo is not the key for spam. "
   ]
  },
  {
   "cell_type": "markdown",
   "id": "e03f53dd",
   "metadata": {},
   "source": [
    "### 5. If a dictionary is stored in spam, what is the difference between the expressions 'cat' in spam and 'cat' in spam.keys()?\n",
    "ans = \n",
    "        no diffrence both are same. \n",
    "        it will check the value in key."
   ]
  },
  {
   "cell_type": "markdown",
   "id": "6367ba1a",
   "metadata": {},
   "source": [
    "### 6. If a dictionary is stored in spam, what is the difference between the expressions 'cat' in spam and 'cat' in spam.values()?\n",
    "ans = \n",
    "    \n",
    "    'cat' in spam = it will check if there is any key named as 'cat' in the dictionary.\n",
    "    'cat' in spam.values()= will check wheter there is a value cat for any key in the dictionary."
   ]
  },
  {
   "cell_type": "markdown",
   "id": "35ae3eb4",
   "metadata": {},
   "source": [
    "### 7. What is a shortcut for the following code?\n",
    "if 'color' not in spam:\n",
    "spam['color'] = 'black'\n",
    "\n",
    "ans = \n",
    "\n",
    "     spam.setdefault('color','black')"
   ]
  },
  {
   "cell_type": "markdown",
   "id": "aa61f6bc",
   "metadata": {},
   "source": [
    "### 8. How do you \"pretty print\" dictionary values using which module and function?\n",
    "ans =  \n",
    "\n",
    "     we will use pprint() function for the pretty print of dictionary values.\n",
    "     pprint.pprint()"
   ]
  },
  {
   "cell_type": "code",
   "execution_count": null,
   "id": "33f5b271",
   "metadata": {},
   "outputs": [],
   "source": []
  }
 ],
 "metadata": {
  "kernelspec": {
   "display_name": "Python 3",
   "language": "python",
   "name": "python3"
  },
  "language_info": {
   "codemirror_mode": {
    "name": "ipython",
    "version": 3
   },
   "file_extension": ".py",
   "mimetype": "text/x-python",
   "name": "python",
   "nbconvert_exporter": "python",
   "pygments_lexer": "ipython3",
   "version": "3.8.8"
  }
 },
 "nbformat": 4,
 "nbformat_minor": 5
}
