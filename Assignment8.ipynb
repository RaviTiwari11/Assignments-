{
 "cells": [
  {
   "cell_type": "markdown",
   "id": "542b3ff5",
   "metadata": {},
   "source": [
    "### 1. the Python Standard Library included with PyInputPlus?\n",
    "ans = no this is not the part of standar library, you have to install it by using pip.\n",
    "\n",
    "      !pip install pyinputplus"
   ]
  },
  {
   "cell_type": "markdown",
   "id": "3a6e2304",
   "metadata": {},
   "source": [
    "### 2.Why is PyInputPlus commonly imported with import pyinputplus as pypi?\n",
    "ans = \n",
    "\n",
    "          pypi is alias for the pyinputpuls, so we are using the same. so that you can enter a shorter name when calling the module’s functions."
   ]
  },
  {
   "cell_type": "markdown",
   "id": "a815c395",
   "metadata": {},
   "source": [
    "### 3.How do you distinguish between inputInt() and inputFloat()?\n",
    "ans = \n",
    "       \n",
    "      inputint() will return the integer value. \n",
    "\n",
    "      while inputfloat() will return the float value.\n",
    "      \n",
    "      "
   ]
  },
  {
   "cell_type": "markdown",
   "id": "266e9466",
   "metadata": {},
   "source": [
    "### 4.Using PyInputPlus, how do you ensure that the user enters a whole number between 0 and 99?\n",
    "ans = by using pyip.inputint(min=0,max=99)"
   ]
  },
  {
   "cell_type": "markdown",
   "id": "75b3d7e9",
   "metadata": {},
   "source": [
    "### 5.What is transferred to the keyword arguments allowRegexes and blockRegexes?\n",
    "ans = \n",
    "   \n",
    "     We can also use regular expressions to specify whether an input is allowed or not. The allowRegexes and blockRegexes keyword arguments take a list of regular expression strings to determine what the PyInputPlus function will accept or reject as valid input."
   ]
  },
  {
   "cell_type": "markdown",
   "id": "2c6779f0",
   "metadata": {},
   "source": [
    "### 6.If a blank input is entered three times, what does inputStr(limit=3) do?\n",
    "ans = \n",
    "      it will give \"RetrylimitException\" error. "
   ]
  },
  {
   "cell_type": "markdown",
   "id": "994775d6",
   "metadata": {},
   "source": [
    "### 7.If blank input is entered three times, what does inputStr(limit=3, default=\"hello\") do?\n",
    "ans = \n",
    "      it will give the default value \"hello\" in output."
   ]
  },
  {
   "cell_type": "code",
   "execution_count": null,
   "id": "e15120b3",
   "metadata": {},
   "outputs": [],
   "source": []
  }
 ],
 "metadata": {
  "kernelspec": {
   "display_name": "Python 3",
   "language": "python",
   "name": "python3"
  },
  "language_info": {
   "codemirror_mode": {
    "name": "ipython",
    "version": 3
   },
   "file_extension": ".py",
   "mimetype": "text/x-python",
   "name": "python",
   "nbconvert_exporter": "python",
   "pygments_lexer": "ipython3",
   "version": "3.8.8"
  }
 },
 "nbformat": 4,
 "nbformat_minor": 5
}
