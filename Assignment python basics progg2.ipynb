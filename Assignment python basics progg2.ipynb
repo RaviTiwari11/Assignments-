{
 "cells": [
  {
   "cell_type": "markdown",
   "id": "04e52dcc",
   "metadata": {},
   "source": [
    "### 1. Write a Python program to convert kilometers to miles?"
   ]
  },
  {
   "cell_type": "code",
   "execution_count": 18,
   "id": "6ea1da81",
   "metadata": {},
   "outputs": [
    {
     "name": "stdout",
     "output_type": "stream",
     "text": [
      "enter value in km: 2\n",
      "2.0 km is equal to 1.2426 miles\n"
     ]
    }
   ],
   "source": [
    "kilometers = float(input('enter value in km: '))\n",
    "conv_fac =0.6213\n",
    "miles=kilometers*conv_fac\n",
    "print(f\"{kilometers} km is equal to {miles} miles\")"
   ]
  },
  {
   "cell_type": "markdown",
   "id": "a5f7a387",
   "metadata": {},
   "source": [
    "### 2. Write a Python program to convert Celsius to Fahrenheit?"
   ]
  },
  {
   "cell_type": "code",
   "execution_count": 23,
   "id": "796ab966",
   "metadata": {},
   "outputs": [
    {
     "name": "stdout",
     "output_type": "stream",
     "text": [
      "enter value in Celsium: 34\n",
      "34.0 C is equal to 1149.1999999999998 F\n"
     ]
    }
   ],
   "source": [
    "Celsius = float(input('enter value in Celsium: '))\n",
    "conv_fac=33.8\n",
    "Fahrenheit=Celsius*conv_fac\n",
    "print(f\"{Celsius} C is equal to {Fahrenheit} F\")"
   ]
  },
  {
   "cell_type": "markdown",
   "id": "1730cff7",
   "metadata": {},
   "source": [
    "### 3.Write a Python program to display calendar?"
   ]
  },
  {
   "cell_type": "code",
   "execution_count": 16,
   "id": "21518041",
   "metadata": {},
   "outputs": [
    {
     "name": "stdout",
     "output_type": "stream",
     "text": [
      "enter year:2022\n",
      "enter month:3\n",
      "     March 2022\n",
      "Mo Tu We Th Fr Sa Su\n",
      "    1  2  3  4  5  6\n",
      " 7  8  9 10 11 12 13\n",
      "14 15 16 17 18 19 20\n",
      "21 22 23 24 25 26 27\n",
      "28 29 30 31\n",
      "\n"
     ]
    }
   ],
   "source": [
    "import calendar \n",
    "yyyy=int(input('enter year:'   ))\n",
    "mm=int(input('enter month:'   ))\n",
    "print(calendar.month(yyyy,mm))"
   ]
  },
  {
   "cell_type": "markdown",
   "id": "c62cf4ef",
   "metadata": {},
   "source": [
    "### 4. Write a Python program to solve quadratic equation?"
   ]
  },
  {
   "cell_type": "code",
   "execution_count": 25,
   "id": "09ac0252",
   "metadata": {},
   "outputs": [
    {
     "name": "stdout",
     "output_type": "stream",
     "text": [
      "2\n",
      "3\n",
      "4\n",
      "the solution are (-2.9999999999999996+4.795831523312719j) and (-3.0000000000000004-4.795831523312719j)\n"
     ]
    }
   ],
   "source": [
    "a=int(input())\n",
    "b=int(input())\n",
    "c=int(input())\n",
    "d=(b)**2-4*a*c\n",
    "sol1=(-b+(d**0.5)/2*a)\n",
    "sol2=(-b-(d**0.5)/2*a)\n",
    "print(f'the solution are {sol1} and {sol2}')\n"
   ]
  },
  {
   "cell_type": "markdown",
   "id": "ce5910d8",
   "metadata": {},
   "source": [
    "### 5. Write a Python program to swap two variables without temp variable?"
   ]
  },
  {
   "cell_type": "code",
   "execution_count": 21,
   "id": "0d565f3a",
   "metadata": {},
   "outputs": [
    {
     "name": "stdout",
     "output_type": "stream",
     "text": [
      "you\n",
      "me\n"
     ]
    }
   ],
   "source": [
    "a=\"me\"\n",
    "b=\"you\"\n",
    "a,b=b,a\n",
    "print(a)\n",
    "print(b)"
   ]
  },
  {
   "cell_type": "code",
   "execution_count": null,
   "id": "f90cd1fa",
   "metadata": {},
   "outputs": [],
   "source": []
  }
 ],
 "metadata": {
  "kernelspec": {
   "display_name": "Python 3",
   "language": "python",
   "name": "python3"
  },
  "language_info": {
   "codemirror_mode": {
    "name": "ipython",
    "version": 3
   },
   "file_extension": ".py",
   "mimetype": "text/x-python",
   "name": "python",
   "nbconvert_exporter": "python",
   "pygments_lexer": "ipython3",
   "version": "3.8.8"
  }
 },
 "nbformat": 4,
 "nbformat_minor": 5
}
