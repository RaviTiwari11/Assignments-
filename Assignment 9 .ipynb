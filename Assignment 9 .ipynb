{
 "cells": [
  {
   "cell_type": "markdown",
   "id": "5a5a962a",
   "metadata": {},
   "source": [
    "1. To what does a relative path refer?\n",
    "\n",
    "ans = relative path means the location of current file with related to the current working directory "
   ]
  },
  {
   "cell_type": "markdown",
   "id": "da7a0680",
   "metadata": {},
   "source": [
    "2. What does an absolute path start with your operating system?\n",
    "\n",
    "ans = Absolute paths start with the root folder, such as / or C:."
   ]
  },
  {
   "cell_type": "markdown",
   "id": "f0686770",
   "metadata": {},
   "source": [
    "3. What do the functions os.getcwd() and os.chdir() do?\n",
    "\n",
    "ans = os.getcwd() = it will return the current working directory.\n",
    "os.chdir() = it will change the directory to the given address mentioned in argument.\n"
   ]
  },
  {
   "cell_type": "markdown",
   "id": "32d1b364",
   "metadata": {},
   "source": [
    "Absolute paths start with the root folder, such as / or C:\\."
   ]
  },
  {
   "cell_type": "markdown",
   "id": "0a46f56f",
   "metadata": {},
   "source": [
    "4. What are the . and .. folders?\n",
    "\n",
    "ans = \n",
    ". = current folder \n",
    ".. = parent folder"
   ]
  },
  {
   "cell_type": "markdown",
   "id": "044cd87e",
   "metadata": {},
   "source": [
    "5. In C:\\bacon\\eggs\\spam.txt, which part is the dir name, and which part is the base name?\n",
    "\n",
    "ans = C:\\bacon\\eggs is the dir name, while spam.txt is the base name.\n"
   ]
  },
  {
   "cell_type": "markdown",
   "id": "c82d234e",
   "metadata": {},
   "source": [
    "6. What are the three “mode” arguments that can be passed to the open() function?\n",
    "\n",
    "ans = 'r' for read mode. 'w' for write mode.  'a' for append mode. "
   ]
  },
  {
   "cell_type": "markdown",
   "id": "9d685902",
   "metadata": {},
   "source": [
    "7. What happens if an existing file is opened in write mode?\n",
    " \n",
    "ans = all the content of the file will be erased and that will treat as a new empty file ."
   ]
  },
  {
   "cell_type": "markdown",
   "id": "e4e1c0fa",
   "metadata": {},
   "source": [
    "8. How do you tell the difference between read() and readlines()?\n",
    "\n",
    "ans = read() = read function will read the entire content of file and return that into string.                    \n",
    "      readlines() = readlines function will return the content of fille line by line."
   ]
  },
  {
   "cell_type": "markdown",
   "id": "e190489a",
   "metadata": {},
   "source": [
    "9. What data structure does a shelf value resemble?\n",
    "\n",
    "ans = A shelf value resembles a dictionary value; it has keys and values, along with keys() and values() methods that work similarly to the dictionary methods of the same names."
   ]
  }
 ],
 "metadata": {
  "kernelspec": {
   "display_name": "Python 3",
   "language": "python",
   "name": "python3"
  },
  "language_info": {
   "codemirror_mode": {
    "name": "ipython",
    "version": 3
   },
   "file_extension": ".py",
   "mimetype": "text/x-python",
   "name": "python",
   "nbconvert_exporter": "python",
   "pygments_lexer": "ipython3",
   "version": "3.8.8"
  }
 },
 "nbformat": 4,
 "nbformat_minor": 5
}
