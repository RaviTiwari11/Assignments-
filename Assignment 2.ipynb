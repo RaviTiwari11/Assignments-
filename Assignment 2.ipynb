{
 "cells": [
  {
   "cell_type": "markdown",
   "id": "46f3cd42",
   "metadata": {},
   "source": [
    "### 1.What are the two values of the Boolean data type? How do you write them?\n",
    "ans = 2 values of boolean data type are true & flase \n",
    "we can write it as True & False .\n",
    "while True = 1 \n",
    "& False = 0"
   ]
  },
  {
   "cell_type": "markdown",
   "id": "11208325",
   "metadata": {},
   "source": [
    "### 2. What are the three different types of Boolean operators?\n",
    "ans = followings are the diffrent types of Boolean Operators.\n",
    "\n",
    "      And\n",
    "      Or\n",
    "      Not "
   ]
  },
  {
   "cell_type": "markdown",
   "id": "cbd29c4e",
   "metadata": {},
   "source": [
    "### 3. Make a list of each Boolean operator's truth tables (i.e. every possible combination of Boolean values for the operator and what it evaluate ).\n",
    "ans = this is the list of Boolean operators turth table \n",
    "\n",
    "   for AND operator \n",
    "  \n",
    "      True  and True  = True\n",
    "      False and True  = False\n",
    "      True  and False = False\n",
    "      False and False = False \n",
    "      \n",
    "   for OR operator \n",
    "   \n",
    "     True  or True  = True\n",
    "     False or True  = True\n",
    "     True  or False = True \n",
    "     False or False = False \n",
    "     \n",
    "   for NOT operator \n",
    "   \n",
    "     not(True expression) = opposite result of the expression result \n",
    "     not(False expression)= opposite result of the expression result "
   ]
  },
  {
   "cell_type": "markdown",
   "id": "5c7caeb6",
   "metadata": {},
   "source": [
    "### 4. What are the values of the following expressions?\n",
    "ans =\n",
    "\n",
    "      1.  (5>4) and (3==4) = False \n",
    "      2.  not (5 > 4)  = False \n",
    "      3.  (5 > 4) or (3 == 5) = True\n",
    "      4.  (True and True) and (True == False) = False\n",
    "      5.  (not False) or (not True) = True"
   ]
  },
  {
   "cell_type": "markdown",
   "id": "faa2ab7e",
   "metadata": {},
   "source": [
    "### 5. What are the six comparison operators?\n",
    "ans =  \n",
    "\n",
    "    1.  >   = greater than\n",
    "    2.  <   = less than \n",
    "    3.  >=  = greater than or equal to\n",
    "    4.  <=  = less than or equal to \n",
    "    5.  ==  = equal to \n",
    "    6.  !=  = not equal to "
   ]
  },
  {
   "cell_type": "markdown",
   "id": "5bcf7381",
   "metadata": {},
   "source": [
    "### 6.  How do you tell the difference between the equal to and assignment operators?Describe a condition and when you would use one.\n",
    "ans = \n",
    "\n",
    "     (=) this assignment means we are assigngin the value for any variable. \n",
    "     (==) equal to means we are comparing the values or variables.\n",
    "    \n",
    "     for ex. \n",
    "     \n",
    "     1.  a=10\n",
    "         print(a)  ##in this case we are assigning value to our variable a.\n",
    "       \n",
    "     2.  a=5\n",
    "         b=6\n",
    "         a==b      ##in this case we are comparing variable a and b.\n",
    "       \n",
    "      \n"
   ]
  },
  {
   "cell_type": "code",
   "execution_count": 11,
   "id": "b0d00f66",
   "metadata": {},
   "outputs": [
    {
     "name": "stdout",
     "output_type": "stream",
     "text": [
      "8\n",
      "bacon\n"
     ]
    }
   ],
   "source": [
    "spam = int(input())\n",
    "if spam == 10:\n",
    "    print('eggs')\n",
    "if spam > 5:\n",
    "    print('bacon')\n",
    "else:\n",
    "    print('ham')\n",
    "    print('spam')\n",
    "    print('spam')\n"
   ]
  },
  {
   "cell_type": "markdown",
   "id": "a5fd44fb",
   "metadata": {},
   "source": [
    "# 7. Identify the three blocks in this code:\n",
    "ans = \n",
    "\n",
    "     spam = 0\n",
    "     if spam == 10:\n",
    "     print('eggs')\n",
    "     if spam > 5:\n",
    "     print('bacon')\n",
    "     else:\n",
    "     print('ham')\n",
    "     print('spam')\n",
    "     print('spam')\n",
    "     \n",
    "     as of now there is no any blocks in this code but when we write this is a prefect manner \n",
    "     \n",
    "    spam =0\n",
    "    if spam == 10:\n",
    "        print('eggs')  # line increaded block 1\n",
    "    if spam > 5:\n",
    "        print('bacon') # line increased block 2\n",
    "    else:\n",
    "        print('ham')   # line increased block 3\n",
    "        print('spam')\n",
    "        print('spam')\n"
   ]
  },
  {
   "cell_type": "markdown",
   "id": "5e117e4a",
   "metadata": {},
   "source": [
    "# ##8. Write code that prints Hello if 1 is stored in spam, prints Howdy if 2 is stored in spam, and prints Greetings! if anything else is stored in spam."
   ]
  },
  {
   "cell_type": "code",
   "execution_count": null,
   "id": "7cdc3cb9",
   "metadata": {},
   "outputs": [],
   "source": [
    "spam=int(input())\n",
    "if spam == 1:\n",
    "    print(\"Hello\")\n",
    "elif spam ==2:\n",
    "    print(\"Howdy\")\n",
    "else:\n",
    "    print(\"Greetings!\")"
   ]
  },
  {
   "cell_type": "markdown",
   "id": "02004f3c",
   "metadata": {},
   "source": [
    "### 9.If your programme is stuck in an endless loop, what keys you’ll press?\n",
    "ans= \n",
    "    in this situation we will use clt+c for ending this loop."
   ]
  },
  {
   "cell_type": "markdown",
   "id": "fc1f357a",
   "metadata": {},
   "source": [
    "### 10. How can you tell the difference between break and continue?\n",
    "ans = \n",
    "\n",
    "     Both “break” and “continue” are the ‘jump’ statements, that transfer control of the program to another part of the program. The main difference between break and continue is that break is used for immediate termination of loop. On the other hand, ‘continue’ terminate the current iteration and resumes the control to the next iteration of the loop.\n",
    "\n"
   ]
  },
  {
   "cell_type": "markdown",
   "id": "a7c11fae",
   "metadata": {},
   "source": [
    "### 11. In a for loop, what is the difference between range(10), range(0, 10), and range(0, 10, 1)?\n",
    "ans = \n",
    "\n",
    "     no diffrence all 3 mentioned expression will give the same output."
   ]
  },
  {
   "cell_type": "markdown",
   "id": "2806773d",
   "metadata": {},
   "source": [
    "### 12. Write a short program that prints the numbers 1 to 10 using a for loop. Then write an equivalent program that prints the numbers 1 to 10 using a while loop.\n",
    "ans="
   ]
  },
  {
   "cell_type": "markdown",
   "id": "bbd2a106",
   "metadata": {},
   "source": [
    "#### by using for loop "
   ]
  },
  {
   "cell_type": "code",
   "execution_count": 17,
   "id": "329ab67f",
   "metadata": {},
   "outputs": [
    {
     "name": "stdout",
     "output_type": "stream",
     "text": [
      "1\n",
      "2\n",
      "3\n",
      "4\n",
      "5\n",
      "6\n",
      "7\n",
      "8\n",
      "9\n"
     ]
    }
   ],
   "source": [
    "i=range(1,10)\n",
    "for l in i:\n",
    "    print(l)"
   ]
  },
  {
   "cell_type": "markdown",
   "id": "17326bb7",
   "metadata": {},
   "source": [
    "#### by using while loop"
   ]
  },
  {
   "cell_type": "code",
   "execution_count": 1,
   "id": "b87dea5b",
   "metadata": {
    "scrolled": true
   },
   "outputs": [
    {
     "name": "stdout",
     "output_type": "stream",
     "text": [
      "1\n",
      "2\n",
      "3\n",
      "4\n",
      "5\n",
      "6\n",
      "7\n",
      "8\n",
      "9\n",
      "10\n"
     ]
    }
   ],
   "source": [
    "i = 1\n",
    "while(i<=10):\n",
    "    print(i)\n",
    "    i += 1"
   ]
  },
  {
   "cell_type": "markdown",
   "id": "547a371d",
   "metadata": {},
   "source": [
    "### 13. If you had a function named bacon() inside a module named spam, how would you call it after importing spam?\n",
    "ans=\n",
    "     \n",
    "     we can call it by spam.bacon()."
   ]
  },
  {
   "cell_type": "code",
   "execution_count": null,
   "id": "81c5f390",
   "metadata": {},
   "outputs": [],
   "source": []
  }
 ],
 "metadata": {
  "kernelspec": {
   "display_name": "Python 3",
   "language": "python",
   "name": "python3"
  },
  "language_info": {
   "codemirror_mode": {
    "name": "ipython",
    "version": 3
   },
   "file_extension": ".py",
   "mimetype": "text/x-python",
   "name": "python",
   "nbconvert_exporter": "python",
   "pygments_lexer": "ipython3",
   "version": "3.8.8"
  }
 },
 "nbformat": 4,
 "nbformat_minor": 5
}
