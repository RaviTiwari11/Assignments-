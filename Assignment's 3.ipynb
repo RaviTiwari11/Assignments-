{
 "cells": [
  {
   "cell_type": "markdown",
   "id": "4075d564",
   "metadata": {},
   "source": [
    "### 1. Why are functions advantageous to have in your programs?\n",
    "ans = \n",
    "\n",
    "       by using the functions we can make our programe shorter, it will helps us in easy to read and easy to update.\n",
    "       we also dont need out sourced codes."
   ]
  },
  {
   "cell_type": "markdown",
   "id": "3088c26a",
   "metadata": {},
   "source": [
    "### 2. When does the code in a function run: when it's specified or when it's called?\n",
    "ans = \n",
    "      \n",
    "      the code in a function will run only when we call."
   ]
  },
  {
   "cell_type": "markdown",
   "id": "11217d2a",
   "metadata": {},
   "source": [
    "### 3. What statement creates a function?\n",
    "ans = \n",
    "\n",
    "    def statment creates a function.\n",
    "    for ex= def test()"
   ]
  },
  {
   "cell_type": "markdown",
   "id": "a8a607cc",
   "metadata": {},
   "source": [
    "### 4. What is the difference between a function and a function call?\n",
    "ans = \n",
    "\n",
    "\n",
    "     A function consists the def statement and the code.\n",
    "     A function call is the program execution into the function, \n",
    "     and the function call evaluates to the function's return value."
   ]
  },
  {
   "cell_type": "markdown",
   "id": "7f1b805d",
   "metadata": {},
   "source": [
    "### 5. How many global scopes are there in a Python program? How many local scopes?\n",
    "ans = \n",
    "    there is one global scope and a local scope.\n",
    "     "
   ]
  },
  {
   "cell_type": "markdown",
   "id": "fe8e0994",
   "metadata": {},
   "source": [
    "### 6. What happens to variables in a local scope when the function call returns?\n",
    "ans = \n",
    "      \n",
    "      when any function call returns, than all the variables from local scope ignored "
   ]
  },
  {
   "cell_type": "markdown",
   "id": "da40e342",
   "metadata": {},
   "source": [
    "### 7. What is the concept of a return value? Is it possible to have a return value in an expression?\n",
    "ans = \n",
    "      \n",
    "      function use this return value to evaluate the value \n",
    "      yes it can be the the part of expression."
   ]
  },
  {
   "cell_type": "markdown",
   "id": "90cbd62c",
   "metadata": {},
   "source": [
    "### 8. If a function does not have a return statement, what is the return value of a call to that function?\n",
    "ans = \n",
    "     \n",
    "     that return value will be None."
   ]
  },
  {
   "cell_type": "markdown",
   "id": "2cb968d9",
   "metadata": {},
   "source": [
    "### 9. How do you make a function variable refer to the global variable?\n",
    "ans = \n",
    "\n",
    "     global statement will force a variable in a function to refer to the global variable."
   ]
  },
  {
   "cell_type": "markdown",
   "id": "3dbcf0c9",
   "metadata": {},
   "source": [
    "### 10. What is the data type of None?\n",
    "ans =\n",
    "\n",
    "     Nonetype"
   ]
  },
  {
   "cell_type": "markdown",
   "id": "1b01d545",
   "metadata": {},
   "source": [
    "### 11. What does the sentence import areallyourpetsnamederic do?\n",
    "ans = \n",
    " \n",
    "    this sentence with import the module/function named areallyourpetsnamederci."
   ]
  },
  {
   "cell_type": "markdown",
   "id": "5f368bad",
   "metadata": {},
   "source": [
    "### 12. If you had a bacon() feature in a spam module, what would you call it after importing spam?\n",
    "ans = \n",
    "    \n",
    "    spam.bacon()"
   ]
  },
  {
   "cell_type": "markdown",
   "id": "d00e1af4",
   "metadata": {},
   "source": [
    "### 13. What can you do to save a programme from crashing if it encounters an error?\n",
    "ans = \n",
    "    \n",
    "      we will debugg our programme\n",
    "      or we can use pass / Try function to run it \n",
    "    "
   ]
  },
  {
   "cell_type": "markdown",
   "id": "ff1c6b35",
   "metadata": {},
   "source": [
    "### 14. What is the purpose of the try clause? What is the purpose of the except clause?\n",
    "ans= \n",
    "\n",
    "    code that could cause an error will go into the try clause.\n",
    "    and code that executes if an error happens will go into the except clause."
   ]
  },
  {
   "cell_type": "code",
   "execution_count": null,
   "id": "6eb05153",
   "metadata": {},
   "outputs": [],
   "source": []
  }
 ],
 "metadata": {
  "kernelspec": {
   "display_name": "Python 3",
   "language": "python",
   "name": "python3"
  },
  "language_info": {
   "codemirror_mode": {
    "name": "ipython",
    "version": 3
   },
   "file_extension": ".py",
   "mimetype": "text/x-python",
   "name": "python",
   "nbconvert_exporter": "python",
   "pygments_lexer": "ipython3",
   "version": "3.8.8"
  }
 },
 "nbformat": 4,
 "nbformat_minor": 5
}
