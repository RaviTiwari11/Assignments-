{
 "cells": [
  {
   "cell_type": "markdown",
   "id": "28e98e42",
   "metadata": {},
   "source": [
    "1. Create a function in python to read the text file and replace specific content\n",
    "of the file."
   ]
  },
  {
   "cell_type": "code",
   "execution_count": null,
   "id": "8e9f7157",
   "metadata": {},
   "outputs": [],
   "source": [
    "def replace_content():\n",
    "    file=input(\"please enter the file name: \")\n",
    "    original_string=input(\"please enter the old string: \")\n",
    "    replace_string=input(\"string to be: \")\n",
    "    fd = open(file, \"r+\")\n",
    "    for old_line in fd:\n",
    "        new_line = old_line.replace(original_string, replace_string)\n",
    "        fd = open(file,\"w\")\n",
    "        fd.writelines([new_line])\n",
    "    fd.close()\n",
    "\n",
    "\n",
    "replace_content()\n"
   ]
  },
  {
   "cell_type": "markdown",
   "id": "baaa7093",
   "metadata": {},
   "source": [
    "2. Demonstrate use of abstract class, multiple inheritance and decorator in\n",
    "python using examples."
   ]
  },
  {
   "cell_type": "markdown",
   "id": "66fc6b30",
   "metadata": {},
   "source": [
    "(a).Abstract class= \n",
    "\n",
    "An abstract class can be considered as a blueprint for other classes. It allows you to create a set of methods that must be created within any child classes built from the abstract class. A class which contains one or more abstract methods is called an abstract class"
   ]
  },
  {
   "cell_type": "code",
   "execution_count": 27,
   "id": "0e6bceff",
   "metadata": {},
   "outputs": [],
   "source": [
    "class vehicle():\n",
    "    def move(self):\n",
    "        pass\n",
    "    \n",
    "class car(vehicle):\n",
    "    def move(self):\n",
    "        print(\"4 wheelr vehicle\")\n",
    "        \n",
    "class bike(vehicle):\n",
    "    def move(self):\n",
    "        print(\"2 wheeler vehicle\")\n",
    "\n",
    "class horse(vehicle):\n",
    "    def move(self):\n",
    "        print(\"ancient vehice\")\n",
    "\n",
    "\n"
   ]
  },
  {
   "cell_type": "markdown",
   "id": "e39d096b",
   "metadata": {},
   "source": [
    "(B) Multiple inheritence =\n",
    "\n",
    "when any certain class is created by more than one class than this process is knonw us multiple inheritence. "
   ]
  },
  {
   "cell_type": "code",
   "execution_count": 29,
   "id": "ecdd1f57",
   "metadata": {},
   "outputs": [],
   "source": [
    "class stundet():\n",
    "    def study(self):\n",
    "        pass\n",
    "class books():\n",
    "    def reading(self):\n",
    "        pass\n",
    "class school():\n",
    "    def learning(self):\n",
    "        pass"
   ]
  },
  {
   "cell_type": "markdown",
   "id": "2e0c706a",
   "metadata": {},
   "source": [
    "(c) Decoraters =\n",
    "\n",
    "decoraters are like we are giving more functionalities to our function without chaging that. we use decorators by wrappers to add them into the functions."
   ]
  },
  {
   "cell_type": "code",
   "execution_count": null,
   "id": "efd3bc50",
   "metadata": {},
   "outputs": [],
   "source": []
  }
 ],
 "metadata": {
  "kernelspec": {
   "display_name": "Python 3",
   "language": "python",
   "name": "python3"
  },
  "language_info": {
   "codemirror_mode": {
    "name": "ipython",
    "version": 3
   },
   "file_extension": ".py",
   "mimetype": "text/x-python",
   "name": "python",
   "nbconvert_exporter": "python",
   "pygments_lexer": "ipython3",
   "version": "3.8.8"
  }
 },
 "nbformat": 4,
 "nbformat_minor": 5
}
