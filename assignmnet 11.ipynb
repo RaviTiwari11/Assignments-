{
 "cells": [
  {
   "cell_type": "markdown",
   "id": "eb6cd579",
   "metadata": {},
   "source": [
    "Create an assert statement that throws an AssertionError if the variable spam is a negative integer."
   ]
  },
  {
   "cell_type": "code",
   "execution_count": 9,
   "id": "eb5873b8",
   "metadata": {},
   "outputs": [
    {
     "name": "stdout",
     "output_type": "stream",
     "text": [
      "Only positive numbers are allowed\n"
     ]
    }
   ],
   "source": [
    "def square(x):\n",
    "    assert x>=0, 'Only positive numbers are allowed'\n",
    "    return x*x\n",
    "\n",
    "try:\n",
    "    square(-2)\n",
    "except AssertionError as msg:\n",
    "    print(msg)"
   ]
  },
  {
   "cell_type": "markdown",
   "id": "21e5a356",
   "metadata": {},
   "source": [
    "2. Write an assert statement that triggers an AssertionError if the variables eggs and bacon contain\n",
    "strings that are the same as each other, even if their cases are different (that is, &#39;hello&#39; and &#39;hello&#39; are\n",
    "considered the same, and &#39;goodbye&#39; and &#39;GOODbye&#39; are also considered the same)."
   ]
  },
  {
   "cell_type": "code",
   "execution_count": 14,
   "id": "320649d3",
   "metadata": {},
   "outputs": [
    {
     "ename": "SyntaxError",
     "evalue": "invalid syntax (<ipython-input-14-78db0a26b83b>, line 1)",
     "output_type": "error",
     "traceback": [
      "\u001b[1;36m  File \u001b[1;32m\"<ipython-input-14-78db0a26b83b>\"\u001b[1;36m, line \u001b[1;32m1\u001b[0m\n\u001b[1;33m    assert eggs.lower() != bacon.lower(), 'The eggs and bacon variables are the same!' or assert eggs.upper() != bacon.upper(), 'The eggs and bacon variables are the same!'\u001b[0m\n\u001b[1;37m                                                                                          ^\u001b[0m\n\u001b[1;31mSyntaxError\u001b[0m\u001b[1;31m:\u001b[0m invalid syntax\n"
     ]
    }
   ],
   "source": [
    "assert eggs.lower() != bacon.lower(), 'The eggs and bacon variables are the same!' \n",
    "or assert eggs.upper() != bacon.upper(), 'The eggs and bacon variables are the same!'"
   ]
  },
  {
   "cell_type": "markdown",
   "id": "8491448d",
   "metadata": {},
   "source": [
    "3. Create an assert statement that throws an AssertionError every time."
   ]
  },
  {
   "cell_type": "code",
   "execution_count": 15,
   "id": "393debb7",
   "metadata": {},
   "outputs": [
    {
     "ename": "AssertionError",
     "evalue": "this asserstion will always occur",
     "output_type": "error",
     "traceback": [
      "\u001b[1;31m---------------------------------------------------------------------------\u001b[0m",
      "\u001b[1;31mAssertionError\u001b[0m                            Traceback (most recent call last)",
      "\u001b[1;32m<ipython-input-15-e454405136bb>\u001b[0m in \u001b[0;36m<module>\u001b[1;34m\u001b[0m\n\u001b[1;32m----> 1\u001b[1;33m \u001b[1;32massert\u001b[0m \u001b[1;32mFalse\u001b[0m \u001b[1;33m,\u001b[0m \u001b[1;34m'this asserstion will always occur'\u001b[0m\u001b[1;33m\u001b[0m\u001b[1;33m\u001b[0m\u001b[0m\n\u001b[0m",
      "\u001b[1;31mAssertionError\u001b[0m: this asserstion will always occur"
     ]
    }
   ],
   "source": [
    "assert False , 'this asserstion will always occur'"
   ]
  },
  {
   "cell_type": "markdown",
   "id": "51370717",
   "metadata": {},
   "source": [
    "4. What are the two lines that must be present in your software in order to call logging.debug()?"
   ]
  },
  {
   "cell_type": "code",
   "execution_count": 17,
   "id": "2855c68e",
   "metadata": {},
   "outputs": [],
   "source": [
    "import logging \n",
    "logging.basicConfig()"
   ]
  },
  {
   "cell_type": "markdown",
   "id": "0f54e2f3",
   "metadata": {},
   "source": [
    "5. What are the two lines that your program must have in order to have logging.debug() send a\n",
    "logging message to a file named programLog.txt?"
   ]
  },
  {
   "cell_type": "code",
   "execution_count": 19,
   "id": "9a20a360",
   "metadata": {},
   "outputs": [],
   "source": [
    "import logging\n",
    "logging.basicConfig(filename = \"programLog.txt\",level =logging.debug,format = '%(levelname)s - %(message)s')"
   ]
  },
  {
   "cell_type": "markdown",
   "id": "a17b46dc",
   "metadata": {},
   "source": [
    "6. What are the five levels of logging?"
   ]
  },
  {
   "cell_type": "code",
   "execution_count": 21,
   "id": "c9f87cb1",
   "metadata": {},
   "outputs": [
    {
     "data": {
      "text/plain": [
       "'Debug\\nImport\\nWarning \\nError \\nCritical'"
      ]
     },
     "execution_count": 21,
     "metadata": {},
     "output_type": "execute_result"
    }
   ],
   "source": [
    "\"\"\"Debug\n",
    "Import\n",
    "Warning \n",
    "Error \n",
    "Critical\"\"\""
   ]
  },
  {
   "cell_type": "markdown",
   "id": "9c59c975",
   "metadata": {},
   "source": [
    "7. What line of code would you add to your software to disable all logging messages?"
   ]
  },
  {
   "cell_type": "code",
   "execution_count": 22,
   "id": "42b589ea",
   "metadata": {},
   "outputs": [],
   "source": [
    "logging.shutdown()"
   ]
  },
  {
   "cell_type": "markdown",
   "id": "5867cf99",
   "metadata": {},
   "source": [
    "8.Why is using logging messages better than using print() to display the same message?"
   ]
  },
  {
   "cell_type": "markdown",
   "id": "277198b5",
   "metadata": {},
   "source": [
    "Logging is critical if you want to diagnose problems or understand what’s happening with your Python application. In this post, I hope to convince you that using Python’s logging library is preferable to just putting ‘print’ statements everywhere in your code.\n",
    "\n",
    "The Python logging library lets you:\n",
    "\n",
    "Control what’s emitted\n",
    "Define what types of information you want to include in your logs\n",
    "Configure how it looks when it’s emitted\n",
    "Most importantly, set the destination for your logs"
   ]
  },
  {
   "cell_type": "markdown",
   "id": "f896eac0",
   "metadata": {},
   "source": [
    "9. What are the differences between the Step Over, Step In, and Step Out buttons in the debugger?"
   ]
  },
  {
   "cell_type": "markdown",
   "id": "f9466ffc",
   "metadata": {},
   "source": [
    "The Step button will move the debugger into a function call. The Over button will quickly execute the function call without stepping into it. The Out button will quickly execute the rest of the code until it steps out of the function it currently is in."
   ]
  },
  {
   "cell_type": "markdown",
   "id": "59746ee4",
   "metadata": {},
   "source": [
    "10.After you click Continue, when will the debugger stop ?"
   ]
  },
  {
   "cell_type": "markdown",
   "id": "d179b836",
   "metadata": {},
   "source": [
    "After you click continue, the debugger will stop when it has reached the end of the program or a line with a breakpoint."
   ]
  },
  {
   "cell_type": "markdown",
   "id": "5761b8f8",
   "metadata": {},
   "source": [
    "11. What is the concept of a breakpoint?"
   ]
  },
  {
   "cell_type": "markdown",
   "id": "5cf5cb46",
   "metadata": {},
   "source": [
    "A breakpoint is a setting on a line of code that causes the debugger to pause when the program execution reaches the line."
   ]
  }
 ],
 "metadata": {
  "kernelspec": {
   "display_name": "Python 3",
   "language": "python",
   "name": "python3"
  },
  "language_info": {
   "codemirror_mode": {
    "name": "ipython",
    "version": 3
   },
   "file_extension": ".py",
   "mimetype": "text/x-python",
   "name": "python",
   "nbconvert_exporter": "python",
   "pygments_lexer": "ipython3",
   "version": "3.8.8"
  }
 },
 "nbformat": 4,
 "nbformat_minor": 5
}
