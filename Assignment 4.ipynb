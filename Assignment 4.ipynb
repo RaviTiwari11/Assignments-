{
 "cells": [
  {
   "cell_type": "markdown",
   "id": "ee92864f",
   "metadata": {},
   "source": [
    "### 1. What exactly is []?\n",
    "ans = this is the empty list value."
   ]
  },
  {
   "cell_type": "markdown",
   "id": "acdf7d42",
   "metadata": {},
   "source": [
    "### 2. In a list of values stored in a variable called spam, how would you assign the value 'hello' as the third value? (Assume [2, 4, 6, 8, 10] are in spam.)\n",
    "ans= \n",
    "      \n",
    "      let for the spam=[2,4,6,8,10] in index 0 1 2 3 4.\n",
    "      so for spam[2]=\"hello\"."
   ]
  },
  {
   "cell_type": "code",
   "execution_count": 1,
   "id": "923a861d",
   "metadata": {},
   "outputs": [],
   "source": [
    "spam=[2,4,6,8,10]"
   ]
  },
  {
   "cell_type": "code",
   "execution_count": 3,
   "id": "93b3d72c",
   "metadata": {},
   "outputs": [],
   "source": [
    "spam[2]=\"hello\""
   ]
  },
  {
   "cell_type": "code",
   "execution_count": 4,
   "id": "f88cf022",
   "metadata": {},
   "outputs": [
    {
     "data": {
      "text/plain": [
       "[2, 4, 'hello', 8, 10]"
      ]
     },
     "execution_count": 4,
     "metadata": {},
     "output_type": "execute_result"
    }
   ],
   "source": [
    "spam"
   ]
  },
  {
   "cell_type": "markdown",
   "id": "70446a7a",
   "metadata": {},
   "source": [
    "### 3. What is the value of spam[int(int('3' * 2) / 11)]?\n",
    "ans=   \n",
    "     if we solve this we will get 8.\n",
    "     spam[3]=8"
   ]
  },
  {
   "cell_type": "markdown",
   "id": "8392c90c",
   "metadata": {},
   "source": [
    "### 4. What is the value of spam[-1]?\n",
    "ans= spam[-1] = 10"
   ]
  },
  {
   "cell_type": "markdown",
   "id": "4d8ac18d",
   "metadata": {},
   "source": [
    "### 5. What is the value of spam[:2]?\n",
    "ans =  spam[:2] = [2,4]"
   ]
  },
  {
   "cell_type": "markdown",
   "id": "5c997b94",
   "metadata": {},
   "source": [
    "# ## New statements"
   ]
  },
  {
   "cell_type": "code",
   "execution_count": 43,
   "id": "e81c22a3",
   "metadata": {},
   "outputs": [],
   "source": [
    "bacon=[3.14, 'cat', 11, 'cat', True]"
   ]
  },
  {
   "cell_type": "markdown",
   "id": "ad5f0416",
   "metadata": {},
   "source": [
    "### 6. What is the value of bacon.index('cat')?"
   ]
  },
  {
   "cell_type": "code",
   "execution_count": 44,
   "id": "b667a99c",
   "metadata": {},
   "outputs": [
    {
     "data": {
      "text/plain": [
       "1"
      ]
     },
     "execution_count": 44,
     "metadata": {},
     "output_type": "execute_result"
    }
   ],
   "source": [
    "bacon.index('cat')"
   ]
  },
  {
   "cell_type": "markdown",
   "id": "2a6fdffa",
   "metadata": {},
   "source": [
    "### 7. How does bacon.append(99) change the look of the list value in bacon?"
   ]
  },
  {
   "cell_type": "code",
   "execution_count": 48,
   "id": "627248c6",
   "metadata": {},
   "outputs": [],
   "source": [
    "bacon.append(99)"
   ]
  },
  {
   "cell_type": "code",
   "execution_count": 49,
   "id": "0fc1db0d",
   "metadata": {},
   "outputs": [
    {
     "data": {
      "text/plain": [
       "[3.14, 'cat', 11, 'cat', True, 99]"
      ]
     },
     "execution_count": 49,
     "metadata": {},
     "output_type": "execute_result"
    }
   ],
   "source": [
    "bacon"
   ]
  },
  {
   "cell_type": "markdown",
   "id": "d8bd9e3f",
   "metadata": {},
   "source": [
    "so it will add one more value in the list "
   ]
  },
  {
   "cell_type": "markdown",
   "id": "db5a2768",
   "metadata": {},
   "source": [
    "### 8. How does bacon.remove('cat') change the look of the list in bacon?\n",
    "ans = bacon.remove('cat) will remove the value \"cat\" from fisrt most index value."
   ]
  },
  {
   "cell_type": "code",
   "execution_count": 51,
   "id": "fdf63ca5",
   "metadata": {},
   "outputs": [],
   "source": [
    "bacon.remove('cat')"
   ]
  },
  {
   "cell_type": "code",
   "execution_count": 52,
   "id": "b266ef39",
   "metadata": {},
   "outputs": [
    {
     "data": {
      "text/plain": [
       "[3.14, 11, 'cat', True, 99]"
      ]
     },
     "execution_count": 52,
     "metadata": {},
     "output_type": "execute_result"
    }
   ],
   "source": [
    "bacon"
   ]
  },
  {
   "cell_type": "markdown",
   "id": "c4a75b2f",
   "metadata": {},
   "source": [
    "### 9. What are the list concatenation and list replication operators?\n",
    "ans =  \n",
    "   \n",
    "      + = operator for the list concatenation \n",
    "      * = operator for the list replication."
   ]
  },
  {
   "cell_type": "markdown",
   "id": "b6d7ca06",
   "metadata": {},
   "source": [
    "### 10. What is difference between the list methods append() and insert()?\n",
    "ans = \n",
    "\n",
    "     append() will add the given input into the end of the list. while ,\n",
    "     insert() will add the givne input at specified location."
   ]
  },
  {
   "cell_type": "markdown",
   "id": "1ba9ff68",
   "metadata": {},
   "source": [
    "### 11. What are the two methods for removing items from a list?\n",
    "ans= \n",
    "\n",
    "    remove() = in this we need to define the value and it will remove that first mathcing value.\n",
    "    del[] = in this we need to define the index number and it will remove the perticular value at given index location.\n",
    "    pop()= here also we will define the index and after operation it will return the data>\n",
    "    "
   ]
  },
  {
   "cell_type": "markdown",
   "id": "0f9b6a2d",
   "metadata": {},
   "source": [
    "### 12. Describe how list values and string values are identical.\n",
    "ans = \n",
    "    \n",
    "    len() function can be use in string and list both.\n",
    "    both have index's and slices \n",
    "    both can be used in for loops, \n",
    "    both can be concatenated or replicated, \n",
    "    and be used with the in and not in operators."
   ]
  },
  {
   "cell_type": "markdown",
   "id": "77b1caf0",
   "metadata": {},
   "source": [
    "### 13. What's the difference between tuples and lists?\n",
    "ans = \n",
    "\n",
    "      key diffrence between the tuples and lists.\n",
    "      1.lists are mutable, means we can modiy the list while tuples are emmutable we can not modify the tuples after \n",
    "      declaration.\n",
    "      2.tuples take lase memory in the system while list take more.\n",
    "      "
   ]
  },
  {
   "cell_type": "markdown",
   "id": "dd9536fa",
   "metadata": {},
   "source": [
    "### 14. How do you type a tuple value that only contains the integer 42?\n",
    "ans = \n",
    "     \n",
    "     for ex a=(1,)\n",
    "     we have to mention , coma after the value otherwise variable a will be declared as the integer only."
   ]
  },
  {
   "cell_type": "markdown",
   "id": "d1f26cd9",
   "metadata": {},
   "source": [
    "### 15. How do you get a list value's tuple form? How do you get a tuple value's list form?"
   ]
  },
  {
   "cell_type": "markdown",
   "id": "b368d5c4",
   "metadata": {},
   "source": [
    "### 16. Variables that \"contain\" list values are not necessarily lists themselves. Instead, what do they contain?\n",
    "ans = they containt refrence of list values."
   ]
  },
  {
   "cell_type": "markdown",
   "id": "23c52673",
   "metadata": {},
   "source": [
    "### 17. How do you distinguish between copy.copy() and copy.deepcopy()?\n",
    "ans = "
   ]
  },
  {
   "cell_type": "code",
   "execution_count": null,
   "id": "47256a37",
   "metadata": {},
   "outputs": [],
   "source": []
  }
 ],
 "metadata": {
  "kernelspec": {
   "display_name": "Python 3",
   "language": "python",
   "name": "python3"
  },
  "language_info": {
   "codemirror_mode": {
    "name": "ipython",
    "version": 3
   },
   "file_extension": ".py",
   "mimetype": "text/x-python",
   "name": "python",
   "nbconvert_exporter": "python",
   "pygments_lexer": "ipython3",
   "version": "3.8.8"
  }
 },
 "nbformat": 4,
 "nbformat_minor": 5
}
