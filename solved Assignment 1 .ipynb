{
 "cells": [
  {
   "cell_type": "markdown",
   "id": "b2e09b84",
   "metadata": {},
   "source": [
    "# Assignment 1 "
   ]
  },
  {
   "cell_type": "markdown",
   "id": "6816995a",
   "metadata": {},
   "source": [
    "ans 1.  In the below elements which of them are values or an expression? eg:- values can be integer or string and expressions will be mathematical operators\n",
    ".\n",
    "\n",
    "     *  = Mathematical operators \n",
    "     'hello' = String \n",
    "     -87.8 = Float\n",
    "     - = Mathematical operators \n",
    "     / = Mathematical operators \n",
    "     +\t= Mathematical operators \n",
    "     6 = Integer \n",
    "\n"
   ]
  },
  {
   "cell_type": "markdown",
   "id": "52a4bc84",
   "metadata": {},
   "source": [
    "ans 2. Diffrence between string and variable \n",
    "\n",
    "      = Variables are the location where we define the value , value can be in any format like int,float,strings etc.\n",
    "      = strings are the data types. which can be given by the \" _ \". "
   ]
  },
  {
   "cell_type": "markdown",
   "id": "2e1cfe94",
   "metadata": {},
   "source": [
    "ans 3. Types of data types \n",
    "\n",
    "       1. int = this is the numerical value from 0 to infinte. only whole numbers comes under this. which store inside the \n",
    "                 computer memory. \n",
    "       2. Float = this is also numerical value from 0 to infinite but it contains decimal values inside the computer memory.\n",
    "       3. String = this is the type of data type which store alphatic data inside the computer memory."
   ]
  },
  {
   "cell_type": "markdown",
   "id": "a71aa742",
   "metadata": {},
   "source": [
    "ans4 .=\n",
    "\n",
    "        Expression made up of operators, variables , values etc based on syntax of the progrrame.\n",
    "        Expression represents the value."
   ]
  },
  {
   "cell_type": "markdown",
   "id": "efd21b46",
   "metadata": {},
   "source": [
    "ans5. = Diffrence between statement and expression.\n",
    "\n",
    "        A statement is a complete line of code that performs some action, while an expression is any section of the code that evaluates to a value. Expressions can be combined “horizontally” into larger expressions using operators, while statements can only be combined “vertically” by writing one after another, or with block constructs. Every expression can be used as a statement (whose effect is to evaluate the expression and ignore the resulting value), but most statements cannot be used as expressions. "
   ]
  },
  {
   "cell_type": "markdown",
   "id": "22af98f7",
   "metadata": {},
   "source": [
    "ans6. = "
   ]
  },
  {
   "cell_type": "code",
   "execution_count": 4,
   "id": "6651936f",
   "metadata": {},
   "outputs": [],
   "source": [
    "bacon =22"
   ]
  },
  {
   "cell_type": "code",
   "execution_count": 5,
   "id": "96273fbb",
   "metadata": {},
   "outputs": [
    {
     "data": {
      "text/plain": [
       "23"
      ]
     },
     "execution_count": 5,
     "metadata": {},
     "output_type": "execute_result"
    }
   ],
   "source": [
    "bacon+1"
   ]
  },
  {
   "cell_type": "code",
   "execution_count": 6,
   "id": "ed4c664f",
   "metadata": {},
   "outputs": [
    {
     "data": {
      "text/plain": [
       "22"
      ]
     },
     "execution_count": 6,
     "metadata": {},
     "output_type": "execute_result"
    }
   ],
   "source": [
    "bacon"
   ]
  },
  {
   "cell_type": "markdown",
   "id": "0c7e99d5",
   "metadata": {},
   "source": [
    "so the variable bacon contain vlaue and i.e.=22"
   ]
  },
  {
   "cell_type": "markdown",
   "id": "ae0b8865",
   "metadata": {},
   "source": [
    "ans7. ="
   ]
  },
  {
   "cell_type": "code",
   "execution_count": 7,
   "id": "2227d101",
   "metadata": {},
   "outputs": [
    {
     "data": {
      "text/plain": [
       "'spamspamspam'"
      ]
     },
     "execution_count": 7,
     "metadata": {},
     "output_type": "execute_result"
    }
   ],
   "source": [
    "\"spam\"+\"spamspam\""
   ]
  },
  {
   "cell_type": "code",
   "execution_count": 8,
   "id": "a6cecf22",
   "metadata": {},
   "outputs": [
    {
     "data": {
      "text/plain": [
       "'spamspamspam'"
      ]
     },
     "execution_count": 8,
     "metadata": {},
     "output_type": "execute_result"
    }
   ],
   "source": [
    "\"spam\"*3"
   ]
  },
  {
   "cell_type": "markdown",
   "id": "fca9d594",
   "metadata": {},
   "source": [
    "ans8. = \n",
    "   \n",
    "    beacuse we can not define any integer as a variable. thats y eggs is a valid variable name and 100 is not "
   ]
  },
  {
   "cell_type": "markdown",
   "id": "486433b4",
   "metadata": {},
   "source": [
    "ans9. =\n",
    "\n",
    "     below are the functions we can use to get the integer,float and string version of values.\n",
    "     int()\n",
    "     float()\n",
    "     str()"
   ]
  },
  {
   "cell_type": "markdown",
   "id": "e916f399",
   "metadata": {},
   "source": [
    "ans10.="
   ]
  },
  {
   "cell_type": "code",
   "execution_count": 10,
   "id": "3ee45fb0",
   "metadata": {},
   "outputs": [
    {
     "ename": "TypeError",
     "evalue": "can only concatenate str (not \"int\") to str",
     "output_type": "error",
     "traceback": [
      "\u001b[1;31m---------------------------------------------------------------------------\u001b[0m",
      "\u001b[1;31mTypeError\u001b[0m                                 Traceback (most recent call last)",
      "\u001b[1;32m<ipython-input-10-127e03e8726c>\u001b[0m in \u001b[0;36m<module>\u001b[1;34m\u001b[0m\n\u001b[1;32m----> 1\u001b[1;33m \u001b[1;34m'I have eaten'\u001b[0m\u001b[1;33m+\u001b[0m\u001b[1;36m99\u001b[0m\u001b[1;33m+\u001b[0m\u001b[1;34m'burritos'\u001b[0m\u001b[1;33m\u001b[0m\u001b[1;33m\u001b[0m\u001b[0m\n\u001b[0m",
      "\u001b[1;31mTypeError\u001b[0m: can only concatenate str (not \"int\") to str"
     ]
    }
   ],
   "source": [
    "'I have eaten'+99+'burritos'"
   ]
  },
  {
   "cell_type": "code",
   "execution_count": 11,
   "id": "8a6a48b3",
   "metadata": {},
   "outputs": [
    {
     "data": {
      "text/plain": [
       "'I have eaten99burritos'"
      ]
     },
     "execution_count": 11,
     "metadata": {},
     "output_type": "execute_result"
    }
   ],
   "source": [
    "'I have eaten'+str(\"99\")+'burritos'"
   ]
  },
  {
   "cell_type": "markdown",
   "id": "ab195b33",
   "metadata": {},
   "source": [
    "this expression cause error beacuse my programe can not add string value with integer value. so i defined that integer value\n",
    "as string value than run the progrrame."
   ]
  },
  {
   "cell_type": "code",
   "execution_count": null,
   "id": "44953744",
   "metadata": {},
   "outputs": [],
   "source": []
  }
 ],
 "metadata": {
  "kernelspec": {
   "display_name": "Python 3",
   "language": "python",
   "name": "python3"
  },
  "language_info": {
   "codemirror_mode": {
    "name": "ipython",
    "version": 3
   },
   "file_extension": ".py",
   "mimetype": "text/x-python",
   "name": "python",
   "nbconvert_exporter": "python",
   "pygments_lexer": "ipython3",
   "version": "3.8.8"
  }
 },
 "nbformat": 4,
 "nbformat_minor": 5
}
