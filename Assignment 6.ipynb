{
 "cells": [
  {
   "cell_type": "markdown",
   "id": "574164bb",
   "metadata": {},
   "source": [
    "### 1. What are escape characters, and how do you use them?\n",
    "ans = \n",
    "\n",
    "    \n",
    "    \\'\tSingle Quote\t\n",
    "    \\\\\tBackslash\t\n",
    "    \\n\tNew Line\t\n",
    "    \\r\tCarriage Return\t\n",
    "    \\t\tTab\t\n",
    "    \\b\tBackspace\t\n",
    "    \\f\tForm Feed\t\n",
    "    \\ooo\tOctal value\t\n",
    "    \\xhh\tHex value\t\n"
   ]
  },
  {
   "cell_type": "markdown",
   "id": "d0187359",
   "metadata": {},
   "source": [
    "### 2. What do the escape characters n and t stand for?\n",
    "ans = \n",
    "\n",
    "     /n is for new line \n",
    "     /t is for tab "
   ]
  },
  {
   "cell_type": "markdown",
   "id": "7fdb45d4",
   "metadata": {},
   "source": [
    "# 3. What is the way to include backslash characters in a string?\n",
    "ans = \n",
    "\n",
    "      You will get an error if you use double quotes inside a string \n",
    "\n",
    "       for ex-   a = \"We are the so-called \"Vikings\" from the north.\"\n",
    "       output = error \n",
    "       \n",
    "       for avoiding this \n",
    "       \n",
    "       The escape character allows you to use double quotes.\n",
    "\n",
    "        txt = \"We are the so-called \\\"Vikings\\\" from the north.\""
   ]
  },
  {
   "cell_type": "code",
   "execution_count": 1,
   "id": "9ab4ff35",
   "metadata": {},
   "outputs": [
    {
     "ename": "SyntaxError",
     "evalue": "invalid syntax (<ipython-input-1-5dadd954a4e1>, line 1)",
     "output_type": "error",
     "traceback": [
      "\u001b[1;36m  File \u001b[1;32m\"<ipython-input-1-5dadd954a4e1>\"\u001b[1;36m, line \u001b[1;32m1\u001b[0m\n\u001b[1;33m    a='we are 'human''\u001b[0m\n\u001b[1;37m               ^\u001b[0m\n\u001b[1;31mSyntaxError\u001b[0m\u001b[1;31m:\u001b[0m invalid syntax\n"
     ]
    }
   ],
   "source": [
    "a='we are 'human''"
   ]
  },
  {
   "cell_type": "code",
   "execution_count": 2,
   "id": "24fef790",
   "metadata": {},
   "outputs": [],
   "source": [
    "a= 'we are \\'human\\' '"
   ]
  },
  {
   "cell_type": "code",
   "execution_count": 3,
   "id": "6a9bc7eb",
   "metadata": {},
   "outputs": [
    {
     "data": {
      "text/plain": [
       "\"we are 'human' \""
      ]
     },
     "execution_count": 3,
     "metadata": {},
     "output_type": "execute_result"
    }
   ],
   "source": [
    "a"
   ]
  },
  {
   "cell_type": "markdown",
   "id": "f89f036b",
   "metadata": {},
   "source": [
    "### 4. The string \"Howl's Moving Castle\" is a correct value. Why isn't the single quote character in the word Howl's not escaped a problem?\n",
    "ans = \n",
    "\n",
    "    because we used double quotes at beginning and end of the string."
   ]
  },
  {
   "cell_type": "markdown",
   "id": "f43dd4b1",
   "metadata": {},
   "source": [
    "### 5. How do you write a string of newlines if you don't want to use the n character?\n",
    "ans = \n",
    "\n",
    "     if we dont want to use the n character than we can use multilines string.\n",
    "     for ex- print('Hello')\n",
    "             print('world')\n",
    "     "
   ]
  },
  {
   "cell_type": "markdown",
   "id": "6e05b082",
   "metadata": {},
   "source": [
    "# 6. What are the values of the given expressions?\n",
    "'Hello, world!'[:5]\n",
    "'Hello, world!'[3:]\n",
    "\n",
    "ans =\n",
    "\n",
    "    'Hello, world!'[1] = 'e'\n",
    "    'Hello, world!'[0:5] = 'Hello'\n",
    "    'Hello, world!'[:5] = 'Hello'\n",
    "    'Hello, world!'[3:] = 'lo, world!'\n",
    "\n"
   ]
  },
  {
   "cell_type": "markdown",
   "id": "9005e45b",
   "metadata": {},
   "source": [
    "### 7. What are the values of the following expressions?\n",
    "ans = \n",
    " \n",
    "    'Hello'.upper() = 'HELLO'\n",
    "    'Hello'.upper().isupper() = True\n",
    "    'Hello'.upper().lower() = 'hello'\n",
    "    "
   ]
  },
  {
   "cell_type": "markdown",
   "id": "11eff0e6",
   "metadata": {},
   "source": [
    "### 8. What are the values of the following expressions?\n",
    "'Remember, remember, the fifth of July.'.split()\n",
    "'-'.join('There can only one.'.split())\n",
    "ans = "
   ]
  },
  {
   "cell_type": "code",
   "execution_count": 16,
   "id": "d5dcbbf1",
   "metadata": {},
   "outputs": [
    {
     "data": {
      "text/plain": [
       "'There-can-only-one.'"
      ]
     },
     "execution_count": 16,
     "metadata": {},
     "output_type": "execute_result"
    }
   ],
   "source": [
    "'Remember, remember, the fifth of July.'.split()\n",
    "'-'.join('There can only one.'.split())"
   ]
  },
  {
   "cell_type": "markdown",
   "id": "54793f19",
   "metadata": {},
   "source": [
    "### 9. What are the methods for right-justifying, left-justifying, and centering a string?\n",
    "ans = \n",
    "\n",
    "     rjust() \n",
    "     ljust()\n",
    "     center()\n",
    "\n"
   ]
  },
  {
   "cell_type": "markdown",
   "id": "65a3ed3d",
   "metadata": {},
   "source": [
    "### 10. What is the best way to remove whitespace characters from the start or end?\n",
    "ans = \n",
    "\n",
    "    lstrip() and rstrip()"
   ]
  }
 ],
 "metadata": {
  "kernelspec": {
   "display_name": "Python 3",
   "language": "python",
   "name": "python3"
  },
  "language_info": {
   "codemirror_mode": {
    "name": "ipython",
    "version": 3
   },
   "file_extension": ".py",
   "mimetype": "text/x-python",
   "name": "python",
   "nbconvert_exporter": "python",
   "pygments_lexer": "ipython3",
   "version": "3.8.8"
  }
 },
 "nbformat": 4,
 "nbformat_minor": 5
}
